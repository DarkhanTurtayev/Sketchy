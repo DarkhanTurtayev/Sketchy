{
 "cells": [
  {
   "cell_type": "code",
   "execution_count": 1,
   "metadata": {},
   "outputs": [],
   "source": [
    "import cv2\n",
    "import os"
   ]
  },
  {
   "cell_type": "code",
   "execution_count": 22,
   "metadata": {},
   "outputs": [],
   "source": [
    "def extract_frames(video_path, output_dir, frame_rate=1):\n",
    "    if not os.path.exists(output_dir):\n",
    "        os.makedirs(output_dir)\n",
    "\n",
    "    cap = cv2.VideoCapture(video_path)\n",
    "    count = 0\n",
    "    success, frame = cap.read()\n",
    "    while success:\n",
    "        if count % frame_rate == 0:\n",
    "            frame_name = os.path.join(output_dir, f\"Oled_{count}.jpg\")\n",
    "            cv2.imwrite(frame_name, frame)\n",
    "        success, frame = cap.read()\n",
    "        count += 1\n",
    "    cap.release()\n",
    "\n",
    "def extract_frames_from_stream(stream_url, output_dir, frame_interval=30):\n",
    "    if not os.path.exists(output_dir):\n",
    "        os.makedirs(output_dir)\n",
    "\n",
    "    cap = cv2.VideoCapture(stream_url)\n",
    "    if not cap.isOpened():\n",
    "        print(\"Error: Could not open video stream\")\n",
    "        return\n",
    "\n",
    "    count = 0\n",
    "    frame_count = 0\n",
    "    success, frame = cap.read()\n",
    "    while success:\n",
    "        if count % frame_interval == 0:\n",
    "            frame_name = os.path.join(output_dir, f\"Oled_{frame_count}.jpg\")\n",
    "            cv2.imwrite(frame_name, frame)\n",
    "            frame_count += 1\n",
    "        success, frame = cap.read()\n",
    "        count += 1\n",
    "    cap.release()"
   ]
  },
  {
   "cell_type": "code",
   "execution_count": 39,
   "metadata": {},
   "outputs": [],
   "source": [
    "video_path = '/Users/macstudiod/Desktop/Upscaler/videos/Oled.mp4'\n",
    "output_dir = '/Users/macstudiod/Desktop/Upscaler/output'\n",
    "frame_rate = 30  # извлечение одного кадра в секунду\n",
    "stream_url = 'https://youtu.be/S_dfq9rFWAE'\n",
    "frame_interval = 30\n",
    "\n"
   ]
  },
  {
   "cell_type": "code",
   "execution_count": 42,
   "metadata": {},
   "outputs": [
    {
     "name": "stderr",
     "output_type": "stream",
     "text": [
      "[mov,mp4,m4a,3gp,3g2,mj2 @ 0x11095b320] error reading header\n",
      "OpenCV: Couldn't read movie file \"/Users/macstudiod/Desktop/Upscaler/videos/Oled.mp4\"\n"
     ]
    }
   ],
   "source": [
    "extract_frames(video_path, output_dir, frame_rate)\n",
    "#extract_frames_from_stream(stream_url, output_dir, frame_interval)"
   ]
  }
 ],
 "metadata": {
  "kernelspec": {
   "display_name": "Python 3",
   "language": "python",
   "name": "python3"
  },
  "language_info": {
   "codemirror_mode": {
    "name": "ipython",
    "version": 3
   },
   "file_extension": ".py",
   "mimetype": "text/x-python",
   "name": "python",
   "nbconvert_exporter": "python",
   "pygments_lexer": "ipython3",
   "version": "3.11.5"
  }
 },
 "nbformat": 4,
 "nbformat_minor": 2
}
